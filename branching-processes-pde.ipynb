{
 "cells": [
  {
   "cell_type": "code",
   "execution_count": 11,
   "metadata": {},
   "outputs": [],
   "source": [
    "import numpy as np\n",
    "import heapq\n",
    "from scipy.stats import gamma\n",
    "\n",
    "class BranchingProcess:\n",
    "    def __init__(self, T=1.0, alpha=0.2, d=5, x0=None, kappa=0.5, theta=2.5, n=96000, M=1000):\n",
    "        self.T = T\n",
    "        self.alpha = alpha\n",
    "        self.d = d\n",
    "        self.sigma0 = 1 / np.sqrt(d)\n",
    "        if x0 is None:\n",
    "            self.x0 = np.full(d, 0.5)\n",
    "        else:\n",
    "            self.x0 = np.array(x0)\n",
    "        self.kappa = kappa\n",
    "        self.theta = theta\n",
    "        self.n = n\n",
    "        self.M = M\n",
    "        self.reset()\n",
    "\n",
    "    def reset(self):\n",
    "        self.time = 0.0\n",
    "        # self.population_alive = {(1,): np.zeros(self.d, dtype = np.float32) }\n",
    "\n",
    "        self.next_splitting_time = []\n",
    "        split_time = min(np.random.gamma(shape = self.kappa, scale = self.theta), self.T)\n",
    "        heapq.heappush(self.next_splitting_time, (split_time, (1,)))\n",
    "        \n",
    "        # population dict keeps track of data of all particles\n",
    "        # key is particle lable, value is (mark, birth state X_{T_k-}, death state X_{T_k}, birth time T_k-, death time T_k)\n",
    "        self.population = {(1,): (\n",
    "            0, \n",
    "            self.x0, \n",
    "            self.x0 + np.sqrt(split_time)*self.sigma0*np.random.normal(size=self.d), \n",
    "            0.0, \n",
    "            split_time\n",
    "            )}\n",
    "        # self.population_alive_series = [self.population_alive.copy()]\n",
    "\n",
    "    def step(self):\n",
    "        (tau, label) = heapq.heappop(self.next_splitting_time)\n",
    "        tau = min(tau, self.T)\n",
    "        self.time = tau\n",
    "        if tau >= self.T:\n",
    "            return\n",
    "        # for l in self.population_alive:\n",
    "        #     self.population_alive[l] = self.population_alive[l] + np.sqrt(tau - self.time)*np.random.normal()\n",
    "        i = np.random.binomial(n = 1, p = 0.5)\n",
    "        # particle dies\n",
    "        # x = self.population_alive.pop(label)\n",
    "        if i == 1:\n",
    "            l1,l2 = label + (1,), label + (2,)\n",
    "            x = self.population[label][2]\n",
    "            s1,s2 = np.random.gamma(shape = self.kappa, scale = self.theta, size = 2)\n",
    "            s1,s2 = min(s1 + tau, self.T), min(s2 + tau,self.T) \n",
    "            heapq.heappush(self.next_splitting_time, (s1, l1))\n",
    "            heapq.heappush(self.next_splitting_time, (s2, l2))\n",
    "            self.population[label + (1,)] = (0, x, x + np.sqrt(s1 - tau)*self.sigma0*np.random.normal(size = self.d), tau, s1)\n",
    "            self.population[label + (2,)] = (1, x, x + np.sqrt(s2 - tau)*self.sigma0*np.random.normal(size = self.d), tau, s2)                    \n",
    "\n",
    "    def sample_process(self):\n",
    "        self.reset()\n",
    "        while self.time < self.T and len(self.next_splitting_time) > 0:\n",
    "            self.step()\n",
    "\n",
    "    def sample_expectation_psi(self):\n",
    "        for _ in range(self.M):\n",
    "            self.reset()\n",
    "            for _ in range(self.n):\n",
    "                dt = np.random.exponential(scale=1 / np.sum(self.population))\n",
    "                self.step(dt)\n"
   ]
  },
  {
   "cell_type": "code",
   "execution_count": 21,
   "metadata": {},
   "outputs": [
    {
     "name": "stdout",
     "output_type": "stream",
     "text": [
      "{(1,): (0, array([0.5, 0.5, 0.5, 0.5, 0.5]), array([0.93226583, 0.36668135, 0.44105715, 0.29713114, 0.54938209]), 0.0, 0.40531445131694765), (1, 1): (0, array([0.93226583, 0.36668135, 0.44105715, 0.29713114, 0.54938209]), array([1.49943025, 1.21632229, 0.94748254, 0.12483685, 0.32339806]), 0.40531445131694765, 1.0), (1, 2): (1, array([0.93226583, 0.36668135, 0.44105715, 0.29713114, 0.54938209]), array([0.88496852, 0.39886124, 0.40206394, 0.48832135, 0.50209867]), 0.40531445131694765, 0.5304172741839053), (1, 2, 1): (0, array([0.88496852, 0.39886124, 0.40206394, 0.48832135, 0.50209867]), array([0.78432305, 0.16703611, 0.39147257, 0.42554991, 0.57956546]), 0.5304172741839053, 0.8788331859371037), (1, 2, 2): (1, array([0.88496852, 0.39886124, 0.40206394, 0.48832135, 0.50209867]), array([0.90803518, 0.25612803, 0.52547719, 0.4055137 , 0.38829999]), 0.5304172741839053, 0.5775470930642472), (1, 2, 2, 1): (0, array([0.90803518, 0.25612803, 0.52547719, 0.4055137 , 0.38829999]), array([0.90262434, 0.25024416, 0.50550772, 0.40858824, 0.37627889]), 0.5775470930642472, 0.5781870019580426), (1, 2, 2, 2): (1, array([0.90803518, 0.25612803, 0.52547719, 0.4055137 , 0.38829999]), array([ 9.13766226e-01,  5.65413216e-01, -3.16524914e-04,  9.43045865e-02,\n",
      "       -9.58686683e-02]), 0.5775470930642472, 0.9708103751979043), (1, 2, 2, 1, 1): (0, array([0.90262434, 0.25024416, 0.50550772, 0.40858824, 0.37627889]), array([0.70810084, 0.02444708, 0.42311751, 0.36390736, 0.22745281]), 0.5781870019580426, 0.660356652850015), (1, 2, 2, 1, 2): (1, array([0.90262434, 0.25024416, 0.50550772, 0.40858824, 0.37627889]), array([0.9054093 , 0.26097798, 0.5282062 , 0.38046355, 0.36899629]), 0.5781870019580426, 0.5789674953619327), (1, 2, 1, 1): (0, array([0.78432305, 0.16703611, 0.39147257, 0.42554991, 0.57956546]), array([0.80156852, 0.12593803, 0.22420181, 0.49012813, 0.59894989]), 0.8788331859371037, 1.0), (1, 2, 1, 2): (1, array([0.78432305, 0.16703611, 0.39147257, 0.42554991, 0.57956546]), array([ 0.72848409, -0.06298984,  0.31861479,  0.35158879,  0.71735284]), 0.8788331859371037, 1.0)}\n",
      "[0.0]\n"
     ]
    }
   ],
   "source": [
    "bp = BranchingProcess()\n",
    "\n",
    "bp.sample_psi()"
   ]
  },
  {
   "cell_type": "code",
   "execution_count": null,
   "metadata": {},
   "outputs": [],
   "source": []
  }
 ],
 "metadata": {
  "kernelspec": {
   "display_name": "base",
   "language": "python",
   "name": "python3"
  },
  "language_info": {
   "codemirror_mode": {
    "name": "ipython",
    "version": 3
   },
   "file_extension": ".py",
   "mimetype": "text/x-python",
   "name": "python",
   "nbconvert_exporter": "python",
   "pygments_lexer": "ipython3",
   "version": "3.11.8"
  },
  "orig_nbformat": 4
 },
 "nbformat": 4,
 "nbformat_minor": 2
}
