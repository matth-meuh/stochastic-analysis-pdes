{
 "cells": [
  {
   "cell_type": "code",
   "execution_count": 23,
   "metadata": {},
   "outputs": [],
   "source": [
    "import numpy as np\n",
    "import heapq\n",
    "from scipy.stats import gamma\n",
    "\n",
    "class BranchingProcess:\n",
    "    def __init__(self, T=1.0, alpha=0.2, c = 0.15, d=5, x0=None, kappa=0.5, theta=2.5, n=96000, M=1000):\n",
    "        self.T = T\n",
    "        self.alpha = alpha\n",
    "        self.b = np.linspace(1 + 1 / d, 2, d) / d\n",
    "        self.c = c\n",
    "        self.d = d\n",
    "        self.sigma0 = 1 / np.sqrt(d)\n",
    "        if x0 is None:\n",
    "            self.x0 = np.full(d, 0.5)\n",
    "        else:\n",
    "            self.x0 = np.array(x0)\n",
    "        self.kappa = kappa\n",
    "        self.theta = theta\n",
    "        self.n = n\n",
    "        self.M = M\n",
    "        self.reset()\n",
    "\n",
    "    def reset(self):\n",
    "        self.time = 0.0\n",
    "        self.next_splitting_time = []\n",
    "        split_time = min(np.random.gamma(shape = self.kappa, scale = self.theta), self.T)\n",
    "        heapq.heappush(self.next_splitting_time, (split_time, (1,)))\n",
    "        \n",
    "        # population dict keeps track of data of all particles\n",
    "        # key is particle lable, \n",
    "        # value is (mark, birth state X_{T_k-}, death state X_{T_k}, birth time T_k-, death time T_k, value of W_k, value of splitting I_k)\n",
    "        self.population = {(1,): (\n",
    "            0, \n",
    "            self.x0, \n",
    "            self.x0 + np.sqrt(split_time)*self.sigma0*np.random.normal(size=self.d), \n",
    "            0.0, \n",
    "            split_time,\n",
    "            1.0,\n",
    "            np.random.binomial(n = 1, p = 0.5)\n",
    "            )}\n",
    "\n",
    "    def step(self):\n",
    "        (tau, label) = heapq.heappop(self.next_splitting_time)\n",
    "        tau = min(tau, self.T)\n",
    "        self.time = tau\n",
    "        if tau >= self.T:\n",
    "            return\n",
    "        i = self.population[label][-1]\n",
    "        if i == 1:\n",
    "            l1,l2 = label + (1,), label + (2,)\n",
    "            x = self.population[label][2]\n",
    "            s1,s2 = np.random.gamma(shape = self.kappa, scale = self.theta, size = 2)\n",
    "            s1,s2 = min(s1 + tau, self.T), min(s2 + tau,self.T) \n",
    "            i1,i2 = np.random.binomial(n = 1, p = 0.5, size = 2) \n",
    "            heapq.heappush(self.next_splitting_time, (s1, l1))\n",
    "            heapq.heappush(self.next_splitting_time, (s2, l2))\n",
    "            dw1 = np.sqrt(s1 - tau) * np.random.normal(size = self.d)\n",
    "            self.population[label + (1,)] = (0, x, x + self.sigma0*dw1, tau, s1, 1.0, i1)\n",
    "            \n",
    "            dw2 = np.sqrt(s2 - tau)*np.random.normal(size = self.d)\n",
    "            wbar =  dw2 / ((s2 - tau)*self.sigma0)\n",
    "            wk = self.b @ wbar \n",
    "            self.population[label + (2,)] = (1, x, x + self.sigma0*dw2, tau, s2, wk, i2)                    \n",
    "\n",
    "    def cl(self,idx,t,x):\n",
    "        if idx == 0:\n",
    "            return np.cos(sum(x))*(self.alpha + self.sigma0**2 / 2 + self.c*np.sin(sum(x))*(3 * self.d + 1) / (2 * self.d) * np.exp(self.alpha * (self.T - t))) * np.exp(self.alpha * (self.T - t))\n",
    "        else:\n",
    "            return self.c\n",
    "    \n",
    "    def fbar(self, t):\n",
    "        return 1 - gamma.cdf(t, self.kappa, scale = self.theta)\n",
    "    \n",
    "    def rho(self, t):\n",
    "        return gamma.pdf(t, self.kappa, scale = self.theta)\n",
    "    \n",
    "    def g(self,x):\n",
    "        return np.cos(sum(x))\n",
    "    \n",
    "    def sample_process(self):\n",
    "        self.reset()\n",
    "        while self.time < self.T and len(self.next_splitting_time) > 0:\n",
    "            self.step()\n",
    "\n",
    "    def sample_psi(self):\n",
    "        self.sample_process()\n",
    "        res = 1\n",
    "        for l in self.population:\n",
    "            mark, birth_x, death_x, birth_t, death_t, wk, ik = self.population[l]\n",
    "            if death_t >= self.T:\n",
    "                g1 = self.g(death_x)\n",
    "                g2 = self.g(birth_x) if mark > 0 else 0\n",
    "                f = self.fbar(death_t - birth_t)\n",
    "                res *= (g1 - g2) * wk / f\n",
    "            else:\n",
    "                res *= self.cl(ik, death_t, death_x) * wk * 2 / (self.rho(death_t - birth_t))\n",
    "        return res\n",
    "\n",
    "    def sample_expectation_psi(self):\n",
    "        res = 0\n",
    "        for _ in range(self.n):\n",
    "            self.reset()\n",
    "            res += self.sample_psi()\n",
    "        return res / self.n\n",
    "    \n",
    "    def global_estimate(self):\n",
    "        samples = []\n",
    "        for _ in range(self.M):\n",
    "            samples.append(self.sample_expectation_psi())\n",
    "        e = np.mean(samples)\n",
    "        sd = np.std(samples, ddof=1)\n",
    "        return e, sd\n",
    "    \n",
    "    def theoretical_value(self):\n",
    "        return np.cos(sum(self.x0)) * np.exp(self.alpha * self.T)\n",
    "                \n"
   ]
  },
  {
   "cell_type": "code",
   "execution_count": 24,
   "metadata": {},
   "outputs": [],
   "source": [
    "bp = BranchingProcess()\n",
    "\n",
    "bp.sample_process()"
   ]
  },
  {
   "cell_type": "code",
   "execution_count": 25,
   "metadata": {},
   "outputs": [
    {
     "data": {
      "text/plain": [
       "-1.2795635951477815"
      ]
     },
     "execution_count": 25,
     "metadata": {},
     "output_type": "execute_result"
    }
   ],
   "source": [
    "bp.sample_psi()"
   ]
  },
  {
   "cell_type": "code",
   "execution_count": 27,
   "metadata": {},
   "outputs": [
    {
     "name": "stdout",
     "output_type": "stream",
     "text": [
      "estimated value:  -0.7266385160502089\n",
      "theoretical value:  -0.9785190217114356\n"
     ]
    }
   ],
   "source": [
    "print(\"estimated value: \",bp.sample_expectation_psi())\n",
    "print(\"theoretical value: \", bp.theoretical_value())"
   ]
  },
  {
   "cell_type": "code",
   "execution_count": 17,
   "metadata": {},
   "outputs": [
    {
     "data": {
      "image/png": "[encoded data removed]",
      "text/plain": [
       "<Figure size 432x288 with 1 Axes>"
      ]
     },
     "metadata": {
      "needs_background": "light"
     },
     "output_type": "display_data"
    }
   ],
   "source": [
    "import timeit\n",
    "import matplotlib.pyplot as plt\n",
    "\n",
    "def foo(d):\n",
    "    bp = BranchingProcess(d = d)\n",
    "    bp.sample_psi()\n",
    "    pass\n",
    "\n",
    "# Define a range of values for parameter d\n",
    "d_values = range(1, 11)  # Example: from 1 to 10\n",
    "\n",
    "# Measure the execution time for each value of d\n",
    "execution_times = []\n",
    "for d in d_values:\n",
    "    time_taken = timeit.timeit(lambda: foo(d), number = 1)\n",
    "    execution_times.append(time_taken)\n",
    "\n",
    "# Plot the curve of execution time against d\n",
    "plt.plot(d_values, execution_times, marker='o')\n",
    "plt.xlabel('Value of d')\n",
    "plt.ylabel('Execution Time (seconds)')\n",
    "plt.title('Complexity Curve for function foo()')\n",
    "plt.grid(True)\n",
    "plt.show()\n",
    "\n"
   ]
  }
 ],
 "metadata": {
  "kernelspec": {
   "display_name": "base",
   "language": "python",
   "name": "python3"
  },
  "language_info": {
   "codemirror_mode": {
    "name": "ipython",
    "version": 3
   },
   "file_extension": ".py",
   "mimetype": "text/x-python",
   "name": "python",
   "nbconvert_exporter": "python",
   "pygments_lexer": "ipython3",
   "version": "3.8.8"
  },
  "orig_nbformat": 4
 },
 "nbformat": 4,
 "nbformat_minor": 2
}
